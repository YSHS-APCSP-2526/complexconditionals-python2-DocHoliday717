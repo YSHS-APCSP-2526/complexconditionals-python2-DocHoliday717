{
  "nbformat": 4,
  "nbformat_minor": 0,
  "metadata": {
    "colab": {
      "provenance": [],
      "include_colab_link": true
    },
    "kernelspec": {
      "name": "python3",
      "display_name": "Python 3"
    },
    "language_info": {
      "name": "python"
    }
  },
  "cells": [
    {
      "cell_type": "markdown",
      "metadata": {
        "id": "view-in-github",
        "colab_type": "text"
      },
      "source": [
        "<a href=\"https://colab.research.google.com/github/YSHS-APCSP-2526/complexconditionals-python2-DocHoliday717/blob/main/Text_Based_Adventure.ipynb\" target=\"_parent\"><img src=\"https://colab.research.google.com/assets/colab-badge.svg\" alt=\"Open In Colab\"/></a>"
      ]
    },
    {
      "cell_type": "markdown",
      "source": [
        "#Requirements for text based adventure\n",
        "1. You must have at least 2 different \"paths\" that are at least 4 decisions in length\n",
        "2. Include an element of randomness (from the random library)\n",
        "3. Include a list that is core to the text based adventure\n",
        "4. Include a function that is called within your program that includes a while loop, and a parameter that influences a conditional statement in your function.\n",
        "5. Commented Code.\n",
        "6. A [digital flowchart](https://docs.google.com/document/d/1p2k3wL6gzjYWBuWxwEQptmbbOZZNsQrthlC12SNtYgY/edit?usp=sharing) that follows accepted symbols for representing code. You can use google slides or [draw.io](https://www.drawio.com/) for the flowchart."
      ],
      "metadata": {
        "id": "zpSmche7G_jy"
      }
    },
    {
      "cell_type": "code",
      "source": [
        "def intro():\n",
        "  response = input(\"You wake up, dreading another day of working at Gandalf's. Do you go to work? Y or N: \")\n",
        "  return response"
      ],
      "metadata": {
        "id": "DToswc3clKpf"
      },
      "execution_count": 5,
      "outputs": []
    },
    {
      "cell_type": "code",
      "source": [
        "def choice1(response):\n",
        "  if response == \"yes\":\n",
        "    print(\"You go to work.\")\n",
        "  else:\n",
        "    print(\"You stay home.\")\n"
      ],
      "metadata": {
        "id": "iga90XLj7_9f"
      },
      "execution_count": 12,
      "outputs": []
    },
    {
      "cell_type": "code",
      "source": [
        "def gandalfWork():\n",
        "  print(\"Another day another wizard\")\n",
        "  print(\"You hear a clank... do you investigate\")\n",
        "  response = input(\"yes or no\")\n",
        "  return response"
      ],
      "metadata": {
        "id": "A2-CEni7BTj3"
      },
      "execution_count": 9,
      "outputs": []
    },
    {
      "cell_type": "code",
      "source": [
        "def main():\n",
        "  response = intro()\n",
        "  choice1(response)\n",
        ""
      ],
      "metadata": {
        "id": "LQuG-KfJlMj3"
      },
      "execution_count": 8,
      "outputs": []
    },
    {
      "cell_type": "code",
      "source": [
        "def responseValidator(response):\n",
        "  while response != \"yes\" and response != \"no\":\n",
        "    response = input(\"Invalid Response: please type 'yes' or 'no': \")\n",
        "  return response"
      ],
      "metadata": {
        "id": "hq0uHXLtCwd6"
      },
      "execution_count": 10,
      "outputs": []
    },
    {
      "cell_type": "code",
      "source": [
        "responseValidator(\"yse\")"
      ],
      "metadata": {
        "id": "ZVw9C-UqDI3h",
        "outputId": "ffbcf2ec-d2cb-4b6b-8e5b-633afc05c64f",
        "colab": {
          "base_uri": "https://localhost:8080/",
          "height": 73
        }
      },
      "execution_count": 4,
      "outputs": [
        {
          "name": "stdout",
          "output_type": "stream",
          "text": [
            "Invalidyse\n",
            "Invalidyes\n"
          ]
        },
        {
          "output_type": "execute_result",
          "data": {
            "text/plain": [
              "'yes'"
            ],
            "application/vnd.google.colaboratory.intrinsic+json": {
              "type": "string"
            }
          },
          "metadata": {},
          "execution_count": 4
        }
      ]
    },
    {
      "cell_type": "code",
      "source": [
        "main()"
      ],
      "metadata": {
        "id": "2CGhIfKd6cwC",
        "outputId": "3bc4ec40-18c0-4ec5-aca1-8c6326536771",
        "colab": {
          "base_uri": "https://localhost:8080/"
        }
      },
      "execution_count": 14,
      "outputs": [
        {
          "output_type": "stream",
          "name": "stdout",
          "text": [
            "You wake up, dreading another day of working at Gandalf's. Do you go to work? Y or N: eh\n",
            "You stay home.\n"
          ]
        }
      ]
    }
  ]
}